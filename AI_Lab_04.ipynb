{
  "nbformat": 4,
  "nbformat_minor": 0,
  "metadata": {
    "colab": {
      "provenance": []
    },
    "kernelspec": {
      "name": "python3",
      "display_name": "Python 3"
    },
    "language_info": {
      "name": "python"
    }
  },
  "cells": [
    {
      "cell_type": "code",
      "execution_count": null,
      "metadata": {
        "colab": {
          "base_uri": "https://localhost:8080/"
        },
        "id": "CSsqmy8a8eyo",
        "outputId": "14aeb88f-5c5c-49de-ddc8-794e1bf5b5e8"
      },
      "outputs": [
        {
          "output_type": "stream",
          "name": "stdout",
          "text": [
            "Vertex \t\tDistance from Source\n",
            "------ \t\t------------------\n",
            "A \t\t0\n",
            "B \t\t20\n",
            "C \t\t40\n",
            "D \t\t50\n",
            "E \t\tinf\n",
            "F \t\t30\n",
            "G \t\t70\n",
            "H \t\t60\n",
            "\n",
            "Path for each vertex:\n",
            "Vertex B : ['A', 'B']\n",
            "Vertex C : ['A', 'B', 'F', 'C']\n",
            "Vertex D : ['A', 'B', 'F', 'C', 'D']\n",
            "Vertex E : Unreachable\n",
            "Vertex F : ['A', 'B', 'F']\n",
            "Vertex G : ['A', 'B', 'F', 'C', 'D', 'G']\n",
            "Vertex H : ['A', 'B', 'F', 'C', 'H']\n"
          ]
        }
      ],
      "source": [
        "## Minimum Distance from Source A to all other vartices using Dijsktra's Algorithm\n",
        "\n",
        "import heapq\n",
        "\n",
        "\n",
        "\n",
        "\n",
        "class Graph:\n",
        "    def __init__(self, num_vertices):\n",
        "        self.graph = [[] for _ in range(num_vertices)]\n",
        "\n",
        "    def add_edge(self, u, v, weight):\n",
        "        self.graph[u].append((v, weight))\n",
        "\n",
        "    def dijkstra(self, src):\n",
        "        dist = [float('inf')] * len(self.graph)\n",
        "        dist[src] = 0\n",
        "        pq = [(0, src)]\n",
        "        parent = [-1] * len(self.graph)\n",
        "\n",
        "        while pq:\n",
        "            u, v = heapq.heappop(pq)\n",
        "\n",
        "            for neighbour, weight in self.graph[v]:\n",
        "                alt = dist[v] + weight\n",
        "                if alt < dist[neighbour]:\n",
        "                    dist[neighbour] = alt\n",
        "                    parent[neighbour] = v\n",
        "                    heapq.heappush(pq, (alt, neighbour))\n",
        "\n",
        "        return dist, parent\n",
        "\n",
        "\n",
        "\n",
        "\n",
        "# Creating Graph\n",
        "graph = Graph(8)\n",
        "graph.add_edge(0, 1, 20)\n",
        "graph.add_edge(0, 6, 90)\n",
        "graph.add_edge(0, 3, 80)\n",
        "graph.add_edge(1, 5, 10)\n",
        "graph.add_edge(2, 3, 10)\n",
        "graph.add_edge(2, 5, 50)\n",
        "graph.add_edge(2, 7, 20)\n",
        "graph.add_edge(3, 2, 10)\n",
        "graph.add_edge(3, 6, 20)\n",
        "graph.add_edge(4, 1, 50)\n",
        "graph.add_edge(4, 6, 30)\n",
        "graph.add_edge(5, 2, 10)\n",
        "graph.add_edge(5, 3, 40)\n",
        "graph.add_edge(6, 0, 20)\n",
        "\n",
        "\n",
        "\n",
        "# Priniting the Shortest distance from Source A\n",
        "dist, parent = graph.dijkstra(0)\n",
        "\n",
        "\n",
        "\n",
        "print(\"Vertex \\t\\tDistance from Source\")\n",
        "print(\"------ \\t\\t------------------\")\n",
        "for i in range(len(dist)):\n",
        "    vertex = chr(ord('A') + i)\n",
        "    print(f\"{vertex} \\t\\t{dist[i]}\")\n",
        "\n",
        "\n",
        "\n",
        "print(\"\\nPath for each vertex:\")\n",
        "for i in range(1, len(dist)):\n",
        "    if parent[i] != -1:\n",
        "        path = []\n",
        "        j = i\n",
        "        while j != -1:\n",
        "            path.append(j)\n",
        "            j = parent[j]\n",
        "        path.reverse()\n",
        "        vertices = [chr(ord('A') + vertex) for vertex in path]\n",
        "        print(f\"Vertex {chr(ord('A') + i)} :\", vertices)\n",
        "    else:\n",
        "        print(f\"Vertex {chr(ord('A') + i)} : Unreachable\")"
      ]
    }
  ]
}